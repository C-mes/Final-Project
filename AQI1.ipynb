{
 "cells": [
  {
   "cell_type": "code",
   "execution_count": 1,
   "metadata": {},
   "outputs": [],
   "source": [
    "import pandas as pd\n",
    "import numpy as np\n",
    "%matplotlib inline\n",
    "import matplotlib.pyplot as plt\n"
   ]
  },
  {
   "cell_type": "markdown",
   "metadata": {},
   "source": [
    "While searching through the datasets in the wprdc website, I figured that the Allegheny County Air Quality dataset was a good dataset to manipulate and use to come to conclusions. So in this case, I will be finding the neighborhood with the lowest \"Air Quality Index\" so I can crown it as the healthiest neighborhood to live in in terms of lung health."
   ]
  },
  {
   "cell_type": "markdown",
   "metadata": {},
   "source": [
    "Link to dataset used: https://data.wprdc.org/dataset/allegheny-county-air-quality/resource/4ab1e23f-3262-4bd3-adbf-f72f0119108b?inner_span=True"
   ]
  },
  {
   "cell_type": "markdown",
   "metadata": {},
   "source": [
    "First, lets import the dataset into this notebook."
   ]
  },
  {
   "cell_type": "code",
   "execution_count": 2,
   "metadata": {},
   "outputs": [],
   "source": [
    "Air = pd.read_csv(\"AQI_Data.csv\")"
   ]
  },
  {
   "cell_type": "markdown",
   "metadata": {},
   "source": [
    "To check if it displays properly, I used Air.head"
   ]
  },
  {
   "cell_type": "code",
   "execution_count": 3,
   "metadata": {},
   "outputs": [
    {
     "data": {
      "text/html": [
       "<div>\n",
       "<style scoped>\n",
       "    .dataframe tbody tr th:only-of-type {\n",
       "        vertical-align: middle;\n",
       "    }\n",
       "\n",
       "    .dataframe tbody tr th {\n",
       "        vertical-align: top;\n",
       "    }\n",
       "\n",
       "    .dataframe thead th {\n",
       "        text-align: right;\n",
       "    }\n",
       "</style>\n",
       "<table border=\"1\" class=\"dataframe\">\n",
       "  <thead>\n",
       "    <tr style=\"text-align: right;\">\n",
       "      <th></th>\n",
       "      <th>date</th>\n",
       "      <th>site</th>\n",
       "      <th>parameter</th>\n",
       "      <th>index_value</th>\n",
       "      <th>description</th>\n",
       "      <th>health_advisory</th>\n",
       "      <th>health_effects</th>\n",
       "    </tr>\n",
       "  </thead>\n",
       "  <tbody>\n",
       "    <tr>\n",
       "      <th>0</th>\n",
       "      <td>2016-01-01</td>\n",
       "      <td>Lawrenceville</td>\n",
       "      <td>PM25B</td>\n",
       "      <td>25</td>\n",
       "      <td>Good</td>\n",
       "      <td>NaN</td>\n",
       "      <td>NaN</td>\n",
       "    </tr>\n",
       "    <tr>\n",
       "      <th>1</th>\n",
       "      <td>2016-01-01</td>\n",
       "      <td>Flag Plaza</td>\n",
       "      <td>CO</td>\n",
       "      <td>0</td>\n",
       "      <td>Good</td>\n",
       "      <td>NaN</td>\n",
       "      <td>NaN</td>\n",
       "    </tr>\n",
       "    <tr>\n",
       "      <th>2</th>\n",
       "      <td>2016-01-01</td>\n",
       "      <td>Harrison Township</td>\n",
       "      <td>OZONE</td>\n",
       "      <td>31</td>\n",
       "      <td>Good</td>\n",
       "      <td>NaN</td>\n",
       "      <td>NaN</td>\n",
       "    </tr>\n",
       "    <tr>\n",
       "      <th>3</th>\n",
       "      <td>2016-01-01</td>\n",
       "      <td>Avalon</td>\n",
       "      <td>SO2</td>\n",
       "      <td>10</td>\n",
       "      <td>Good</td>\n",
       "      <td>NaN</td>\n",
       "      <td>NaN</td>\n",
       "    </tr>\n",
       "    <tr>\n",
       "      <th>4</th>\n",
       "      <td>2016-01-01</td>\n",
       "      <td>Lincoln</td>\n",
       "      <td>PM25</td>\n",
       "      <td>35</td>\n",
       "      <td>Good</td>\n",
       "      <td>NaN</td>\n",
       "      <td>NaN</td>\n",
       "    </tr>\n",
       "    <tr>\n",
       "      <th>5</th>\n",
       "      <td>2016-01-01</td>\n",
       "      <td>Lincoln</td>\n",
       "      <td>PM10</td>\n",
       "      <td>11</td>\n",
       "      <td>Good</td>\n",
       "      <td>NaN</td>\n",
       "      <td>NaN</td>\n",
       "    </tr>\n",
       "    <tr>\n",
       "      <th>6</th>\n",
       "      <td>2016-01-01</td>\n",
       "      <td>South Fayette</td>\n",
       "      <td>SO2</td>\n",
       "      <td>3</td>\n",
       "      <td>Good</td>\n",
       "      <td>NaN</td>\n",
       "      <td>NaN</td>\n",
       "    </tr>\n",
       "    <tr>\n",
       "      <th>7</th>\n",
       "      <td>2016-01-01</td>\n",
       "      <td>North Braddock</td>\n",
       "      <td>PM10B</td>\n",
       "      <td>12</td>\n",
       "      <td>Good</td>\n",
       "      <td>NaN</td>\n",
       "      <td>NaN</td>\n",
       "    </tr>\n",
       "    <tr>\n",
       "      <th>8</th>\n",
       "      <td>2016-01-01</td>\n",
       "      <td>Parkway East</td>\n",
       "      <td>CO</td>\n",
       "      <td>4</td>\n",
       "      <td>Good</td>\n",
       "      <td>NaN</td>\n",
       "      <td>NaN</td>\n",
       "    </tr>\n",
       "    <tr>\n",
       "      <th>9</th>\n",
       "      <td>2016-01-01</td>\n",
       "      <td>Flag Plaza</td>\n",
       "      <td>PM10</td>\n",
       "      <td>7</td>\n",
       "      <td>Good</td>\n",
       "      <td>NaN</td>\n",
       "      <td>NaN</td>\n",
       "    </tr>\n",
       "  </tbody>\n",
       "</table>\n",
       "</div>"
      ],
      "text/plain": [
       "         date               site parameter  index_value description  \\\n",
       "0  2016-01-01      Lawrenceville     PM25B           25        Good   \n",
       "1  2016-01-01         Flag Plaza        CO            0        Good   \n",
       "2  2016-01-01  Harrison Township     OZONE           31        Good   \n",
       "3  2016-01-01             Avalon       SO2           10        Good   \n",
       "4  2016-01-01            Lincoln      PM25           35        Good   \n",
       "5  2016-01-01            Lincoln      PM10           11        Good   \n",
       "6  2016-01-01      South Fayette       SO2            3        Good   \n",
       "7  2016-01-01     North Braddock     PM10B           12        Good   \n",
       "8  2016-01-01       Parkway East        CO            4        Good   \n",
       "9  2016-01-01         Flag Plaza      PM10            7        Good   \n",
       "\n",
       "  health_advisory health_effects  \n",
       "0             NaN            NaN  \n",
       "1             NaN            NaN  \n",
       "2             NaN            NaN  \n",
       "3             NaN            NaN  \n",
       "4             NaN            NaN  \n",
       "5             NaN            NaN  \n",
       "6             NaN            NaN  \n",
       "7             NaN            NaN  \n",
       "8             NaN            NaN  \n",
       "9             NaN            NaN  "
      ]
     },
     "execution_count": 3,
     "metadata": {},
     "output_type": "execute_result"
    }
   ],
   "source": [
    "Air.head(10)"
   ]
  },
  {
   "cell_type": "code",
   "execution_count": null,
   "metadata": {},
   "outputs": [],
   "source": []
  },
  {
   "cell_type": "markdown",
   "metadata": {},
   "source": [
    "0-50 index is considered Good, 50 - 100 is considered Moderate, 100-130? is considered Unhealthy for sensitive groups"
   ]
  },
  {
   "cell_type": "code",
   "execution_count": 4,
   "metadata": {},
   "outputs": [
    {
     "data": {
      "text/plain": [
       "21.731824565193907"
      ]
     },
     "execution_count": 4,
     "metadata": {},
     "output_type": "execute_result"
    }
   ],
   "source": [
    "Air['index_value'].mean()"
   ]
  },
  {
   "cell_type": "markdown",
   "metadata": {},
   "source": [
    "The average Air Quality Index Value for all the neighborhoods/sites in Allegheny County is 21.731824565193907.\n",
    "Anything below that index value is considered better than average air quality relative to the other neigborhoods/sitesin Allegheny County"
   ]
  },
  {
   "cell_type": "code",
   "execution_count": 5,
   "metadata": {},
   "outputs": [
    {
     "name": "stdout",
     "output_type": "stream",
     "text": [
      "There are 15 unique neighborhoods/sites that were recorded\n"
     ]
    }
   ],
   "source": [
    "n = 0\n",
    "uniq = Air['site'].unique()\n",
    "for a in uniq:\n",
    "    n = n + 1\n",
    "n = str(n)\n",
    "print(\"There are \" + n + \" unique neighborhoods/sites that were recorded\")"
   ]
  },
  {
   "cell_type": "markdown",
   "metadata": {},
   "source": [
    "\n"
   ]
  },
  {
   "cell_type": "markdown",
   "metadata": {},
   "source": [
    "We're gonna find out how many times each neighborhood/site was recorded to see if this data can be trusted"
   ]
  },
  {
   "cell_type": "code",
   "execution_count": 6,
   "metadata": {},
   "outputs": [
    {
     "data": {
      "text/plain": [
       "{'Lawrenceville': 4026,\n",
       " 'Flag Plaza': 4002,\n",
       " 'Harrison Township': 4806,\n",
       " 'Avalon': 4054,\n",
       " 'Lincoln': 3574,\n",
       " 'South Fayette': 4627,\n",
       " 'North Braddock': 5763,\n",
       " 'Parkway East': 7460,\n",
       " 'Liberty 2': 4906,\n",
       " 'Lawrenceville 2': 4970,\n",
       " 'Glassport High Street': 2493,\n",
       " 'Liberty': 2506,\n",
       " 'Clairton': 553,\n",
       " 'West Mifflin': 301,\n",
       " 'Pittsburgh': 1501}"
      ]
     },
     "execution_count": 6,
     "metadata": {},
     "output_type": "execute_result"
    }
   ],
   "source": [
    "AQI = {}\n",
    "n=0\n",
    "n1=0\n",
    "n2=1\n",
    "for row in Air.iterrows():\n",
    "    n1 = Air.iloc[n,1] \n",
    "    if n1 not in AQI:\n",
    "        AQI[n1] = n2\n",
    "    elif n1 in AQI:\n",
    "        AQI[n1] = AQI[n1] + n2\n",
    "    n = n+1\n",
    "\n",
    "AQI"
   ]
  },
  {
   "cell_type": "markdown",
   "metadata": {},
   "source": [
    "The most recorded neighborhood/site is Parkway East, while the least recorded neigborhood/site is West Mifflin. West Mifflin was recorded only 301 times, which while being a low number compared to how many times the other sites/neighborhoods were recorded, it is still a substantial amount and should be good enough."
   ]
  },
  {
   "cell_type": "markdown",
   "metadata": {},
   "source": [
    "Now, we are gonna add the Air Quality index for each neighborhood/site, then divide by how many times that neighborhood/site has been recorded so we can find the average Air Quality index for said neighborhood/site"
   ]
  },
  {
   "cell_type": "code",
   "execution_count": 7,
   "metadata": {},
   "outputs": [],
   "source": [
    "Airq = {}\n",
    "n=0\n",
    "n1=0\n",
    "n2=0\n",
    "for row in Air.iterrows():\n",
    "    n1 = Air.iloc[n,1]\n",
    "    n2 = Air.iloc[n,3]\n",
    "    if n1 not in Airq:\n",
    "        Airq[n1] = n2\n",
    "    elif n1 in Airq:\n",
    "        Airq[n1] = Airq[n1] + n2\n",
    "    n = n+1\n",
    "\n",
    "\n"
   ]
  },
  {
   "cell_type": "code",
   "execution_count": 8,
   "metadata": {},
   "outputs": [
    {
     "data": {
      "text/plain": [
       "{'Lawrenceville': 38.044212617983106,\n",
       " 'Flag Plaza': 9.94927536231884,\n",
       " 'Harrison Township': 24.34082397003745,\n",
       " 'Avalon': 22.0004933399112,\n",
       " 'Lincoln': 35.10800223838836,\n",
       " 'South Fayette': 21.42381672790145,\n",
       " 'North Braddock': 18.175602984556654,\n",
       " 'Parkway East': 21.96206434316354,\n",
       " 'Liberty 2': 32.26335099877701,\n",
       " 'Lawrenceville 2': 3.081086519114688,\n",
       " 'Glassport High Street': 17.186522262334538,\n",
       " 'Liberty': 18.70071827613727,\n",
       " 'Clairton': 17.81374321880651,\n",
       " 'West Mifflin': 6.335548172757475,\n",
       " 'Pittsburgh': 26.397068620919388}"
      ]
     },
     "execution_count": 8,
     "metadata": {},
     "output_type": "execute_result"
    }
   ],
   "source": [
    "AverageAir = dict((k, float(Airq[k]) / AQI[k]) for k in Airq)\n",
    "AverageAir\n"
   ]
  },
  {
   "cell_type": "code",
   "execution_count": 9,
   "metadata": {},
   "outputs": [],
   "source": [
    "airplot = pd.Series(AverageAir)"
   ]
  },
  {
   "cell_type": "markdown",
   "metadata": {},
   "source": [
    "Now, lets find the sites/neighborhoods that have an average AQI below the mean."
   ]
  },
  {
   "cell_type": "code",
   "execution_count": 12,
   "metadata": {},
   "outputs": [
    {
     "data": {
      "text/plain": [
       "{'Flag Plaza': 9.94927536231884,\n",
       " 'South Fayette': 21.42381672790145,\n",
       " 'North Braddock': 18.175602984556654,\n",
       " 'Lawrenceville 2': 3.081086519114688,\n",
       " 'Glassport High Street': 17.186522262334538,\n",
       " 'Liberty': 18.70071827613727,\n",
       " 'Clairton': 17.81374321880651,\n",
       " 'West Mifflin': 6.335548172757475}"
      ]
     },
     "execution_count": 12,
     "metadata": {},
     "output_type": "execute_result"
    }
   ],
   "source": [
    "goodair = {}\n",
    "n=0\n",
    "n1=0\n",
    "n2=0\n",
    "mean = Air['index_value'].mean()\n",
    "value = airplot.values\n",
    "index = airplot.index\n",
    "for item in airplot.iteritems():\n",
    "    if value[n] < mean:\n",
    "        goodair[index[n]] = value[n]\n",
    "    n = n + 1\n",
    "goodair\n"
   ]
  },
  {
   "cell_type": "markdown",
   "metadata": {},
   "source": [
    "The sites/neighborhoods with an Air Quality index below the mean of 21.731824565193907 are Flag Plaza, South Fayette, North Braddock, Lawrenceville 2, Glassport High Street, Liberty, Clairton, and West mifflin."
   ]
  },
  {
   "cell_type": "markdown",
   "metadata": {},
   "source": [
    "This time we are gonna find the sites/neighborhoods that have an average higher than the mean."
   ]
  },
  {
   "cell_type": "code",
   "execution_count": 13,
   "metadata": {},
   "outputs": [
    {
     "data": {
      "text/plain": [
       "{'Lawrenceville': 38.044212617983106,\n",
       " 'Harrison Township': 24.34082397003745,\n",
       " 'Avalon': 22.0004933399112,\n",
       " 'Lincoln': 35.10800223838836,\n",
       " 'Parkway East': 21.96206434316354,\n",
       " 'Liberty 2': 32.26335099877701,\n",
       " 'Pittsburgh': 26.397068620919388}"
      ]
     },
     "execution_count": 13,
     "metadata": {},
     "output_type": "execute_result"
    }
   ],
   "source": [
    "badair = {}\n",
    "n=0\n",
    "n1=0\n",
    "n2=0\n",
    "mean = Air['index_value'].mean()\n",
    "value = airplot.values\n",
    "index = airplot.index\n",
    "for item in airplot.iteritems():\n",
    "    if value[n] > mean:\n",
    "        badair[index[n]] = value[n]\n",
    "    n = n + 1\n",
    "badair\n",
    "\n",
    "\n"
   ]
  },
  {
   "cell_type": "markdown",
   "metadata": {},
   "source": [
    "The sites/neighborhoods with an Air Quality Index above the mean of 21.731824565193907 are Lawrenceville, Harrison Township, Avalon, Lincoln, Parkway East, Liberty 2, and Pittsburgh."
   ]
  },
  {
   "cell_type": "markdown",
   "metadata": {},
   "source": [
    "Now, its time to single out the site/neighborhood with the lowest average Air Quality Index using some pandas python code."
   ]
  },
  {
   "cell_type": "code",
   "execution_count": 14,
   "metadata": {},
   "outputs": [
    {
     "data": {
      "text/plain": [
       "3.081086519114688"
      ]
     },
     "execution_count": 14,
     "metadata": {},
     "output_type": "execute_result"
    }
   ],
   "source": [
    "airplot.min()"
   ]
  },
  {
   "cell_type": "markdown",
   "metadata": {},
   "source": [
    "It seems that the lowest Air Quality index is 3.081086519114688. Lets find out what site/neighborhood holds that value"
   ]
  },
  {
   "cell_type": "code",
   "execution_count": 15,
   "metadata": {},
   "outputs": [
    {
     "data": {
      "text/plain": [
       "'Lawrenceville 2'"
      ]
     },
     "execution_count": 15,
     "metadata": {},
     "output_type": "execute_result"
    }
   ],
   "source": [
    "position = airplot.argmin()\n",
    "index = airplot.index\n",
    "index[position]\n"
   ]
  },
  {
   "cell_type": "markdown",
   "metadata": {},
   "source": [
    "It turns out Lawrenceville 2 has the lowest average Air Quality Index out of all 15 sites/neighborhoods recorded, crowning it the healthiest site/neighborhood to live in in allegheny county in terms of lung health."
   ]
  },
  {
   "cell_type": "markdown",
   "metadata": {},
   "source": [
    "Here is a bar graph to visualize this data and compare the site/neighborhoods with eachother easily"
   ]
  },
  {
   "cell_type": "code",
   "execution_count": 17,
   "metadata": {},
   "outputs": [
    {
     "data": {
      "text/plain": [
       "<matplotlib.axes._subplots.AxesSubplot at 0x7f72c1aa7f10>"
      ]
     },
     "execution_count": 17,
     "metadata": {},
     "output_type": "execute_result"
    },
    {
     "data": {
      "image/png": "[encoded data removed]",
      "text/plain": [
       "<Figure size 432x288 with 1 Axes>"
      ]
     },
     "metadata": {
      "needs_background": "light"
     },
     "output_type": "display_data"
    }
   ],
   "source": [
    "airplot.plot(kind='bar')"
   ]
  },
  {
   "cell_type": "code",
   "execution_count": null,
   "metadata": {},
   "outputs": [],
   "source": []
  }
 ],
 "metadata": {
  "kernelspec": {
   "display_name": "Python 3",
   "language": "python",
   "name": "python3"
  },
  "language_info": {
   "codemirror_mode": {
    "name": "ipython",
    "version": 3
   },
   "file_extension": ".py",
   "mimetype": "text/x-python",
   "name": "python",
   "nbconvert_exporter": "python",
   "pygments_lexer": "ipython3",
   "version": "3.8.3"
  }
 },
 "nbformat": 4,
 "nbformat_minor": 4
}
